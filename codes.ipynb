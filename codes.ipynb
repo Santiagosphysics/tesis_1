{
 "cells": [
  {
   "cell_type": "code",
   "execution_count": 2,
   "metadata": {},
   "outputs": [],
   "source": [
    "import pandas as pd "
   ]
  },
  {
   "cell_type": "code",
   "execution_count": 42,
   "metadata": {},
   "outputs": [
    {
     "data": {
      "text/html": [
       "<style type=\"text/css\">\n",
       "#T_5cfba td {\n",
       "  padding: 20px;\n",
       "}\n",
       "#T_5cfba  th {\n",
       "  padding: 20px;\n",
       "}\n",
       "#T_5cfba_row0_col0, #T_5cfba_row0_col1, #T_5cfba_row0_col2, #T_5cfba_row0_col3, #T_5cfba_row0_col4, #T_5cfba_row0_col5, #T_5cfba_row0_col6, #T_5cfba_row0_col7, #T_5cfba_row1_col0, #T_5cfba_row1_col1, #T_5cfba_row1_col2, #T_5cfba_row1_col3, #T_5cfba_row1_col4, #T_5cfba_row1_col5, #T_5cfba_row1_col6, #T_5cfba_row1_col7 {\n",
       "  font-family: Tahoma;\n",
       "  font-size: 14pt;\n",
       "}\n",
       "</style>\n",
       "<table id=\"T_5cfba\">\n",
       "  <thead>\n",
       "    <tr>\n",
       "      <th class=\"blank level0\" >&nbsp;</th>\n",
       "      <th id=\"T_5cfba_level0_col0\" class=\"col_heading level0 col0\" >0</th>\n",
       "      <th id=\"T_5cfba_level0_col1\" class=\"col_heading level0 col1\" >1</th>\n",
       "      <th id=\"T_5cfba_level0_col2\" class=\"col_heading level0 col2\" >2</th>\n",
       "      <th id=\"T_5cfba_level0_col3\" class=\"col_heading level0 col3\" >3</th>\n",
       "      <th id=\"T_5cfba_level0_col4\" class=\"col_heading level0 col4\" >4</th>\n",
       "      <th id=\"T_5cfba_level0_col5\" class=\"col_heading level0 col5\" >5</th>\n",
       "      <th id=\"T_5cfba_level0_col6\" class=\"col_heading level0 col6\" >6</th>\n",
       "      <th id=\"T_5cfba_level0_col7\" class=\"col_heading level0 col7\" >7</th>\n",
       "    </tr>\n",
       "  </thead>\n",
       "  <tbody>\n",
       "    <tr>\n",
       "      <th id=\"T_5cfba_level0_row0\" class=\"row_heading level0 row0\" >P  R  E  G  U  N  T  A</th>\n",
       "      <td id=\"T_5cfba_row0_col0\" class=\"data row0 col0\" >1</td>\n",
       "      <td id=\"T_5cfba_row0_col1\" class=\"data row0 col1\" >2</td>\n",
       "      <td id=\"T_5cfba_row0_col2\" class=\"data row0 col2\" >3</td>\n",
       "      <td id=\"T_5cfba_row0_col3\" class=\"data row0 col3\" >4</td>\n",
       "      <td id=\"T_5cfba_row0_col4\" class=\"data row0 col4\" >5</td>\n",
       "      <td id=\"T_5cfba_row0_col5\" class=\"data row0 col5\" >6</td>\n",
       "      <td id=\"T_5cfba_row0_col6\" class=\"data row0 col6\" >7</td>\n",
       "      <td id=\"T_5cfba_row0_col7\" class=\"data row0 col7\" >8</td>\n",
       "    </tr>\n",
       "    <tr>\n",
       "      <th id=\"T_5cfba_level0_row1\" class=\"row_heading level0 row1\" >R  E  S  P  U  E  S  T  A </th>\n",
       "      <td id=\"T_5cfba_row1_col0\" class=\"data row1 col0\" ></td>\n",
       "      <td id=\"T_5cfba_row1_col1\" class=\"data row1 col1\" ></td>\n",
       "      <td id=\"T_5cfba_row1_col2\" class=\"data row1 col2\" ></td>\n",
       "      <td id=\"T_5cfba_row1_col3\" class=\"data row1 col3\" ></td>\n",
       "      <td id=\"T_5cfba_row1_col4\" class=\"data row1 col4\" ></td>\n",
       "      <td id=\"T_5cfba_row1_col5\" class=\"data row1 col5\" ></td>\n",
       "      <td id=\"T_5cfba_row1_col6\" class=\"data row1 col6\" ></td>\n",
       "      <td id=\"T_5cfba_row1_col7\" class=\"data row1 col7\" ></td>\n",
       "    </tr>\n",
       "  </tbody>\n",
       "</table>\n"
      ],
      "text/plain": [
       "<pandas.io.formats.style.Styler at 0x29b5d326fe0>"
      ]
     },
     "execution_count": 42,
     "metadata": {},
     "output_type": "execute_result"
    }
   ],
   "source": [
    "\n",
    "def df_show(num_options, num_questions):\n",
    "    num_options_list = ['' for i in range(num_options)]\n",
    "    num_questions_list = [1+i for i in range(num_options)]\n",
    "\n",
    "    df = {\n",
    "        'P  R  E  G  U  N  T  A': num_questions_list,\n",
    "        'R  E  S  P  U  E  S  T  A ': num_options_list\n",
    "        }\n",
    "    df = pd.DataFrame(df)\n",
    "    df = df.transpose()\n",
    "    df = df.style.set_properties(**{'font-family': 'Tahoma', 'font-size': '14pt'}) \\\n",
    "                        .set_table_styles([{\n",
    "                            'selector': 'td, th',\n",
    "                            'props': [('padding', '20px')]\n",
    "                        }])\n",
    "    with pd.ExcelWriter('df.xlsx', engine='openpyxl') as df_1:\n",
    "        df.to_excel(df_1, index=True, header=False)\n",
    "\n",
    "    return df\n",
    "\n",
    "df = df_show(num_options= 8, num_questions= 7)\n",
    "df\n"
   ]
  },
  {
   "cell_type": "code",
   "execution_count": 1,
   "metadata": {},
   "outputs": [
    {
     "data": {
      "text/html": [
       "<div>\n",
       "<style scoped>\n",
       "    .dataframe tbody tr th:only-of-type {\n",
       "        vertical-align: middle;\n",
       "    }\n",
       "\n",
       "    .dataframe tbody tr th {\n",
       "        vertical-align: top;\n",
       "    }\n",
       "\n",
       "    .dataframe thead th {\n",
       "        text-align: right;\n",
       "    }\n",
       "</style>\n",
       "<table border=\"1\" class=\"dataframe\">\n",
       "  <thead>\n",
       "    <tr style=\"text-align: right;\">\n",
       "      <th></th>\n",
       "      <th>0</th>\n",
       "      <th>1</th>\n",
       "      <th>2</th>\n",
       "      <th>3</th>\n",
       "      <th>4</th>\n",
       "      <th>5</th>\n",
       "      <th>6</th>\n",
       "      <th>7</th>\n",
       "      <th>8</th>\n",
       "      <th>9</th>\n",
       "    </tr>\n",
       "  </thead>\n",
       "  <tbody>\n",
       "    <tr>\n",
       "      <th>P  R  E  G  U  N  T  A</th>\n",
       "      <td>1</td>\n",
       "      <td>2</td>\n",
       "      <td>3</td>\n",
       "      <td>4</td>\n",
       "      <td>5</td>\n",
       "      <td>6</td>\n",
       "      <td>7</td>\n",
       "      <td>8</td>\n",
       "      <td>9</td>\n",
       "      <td>10</td>\n",
       "    </tr>\n",
       "    <tr>\n",
       "      <th>R  E  S  P  U  E  S  T  A</th>\n",
       "      <td></td>\n",
       "      <td></td>\n",
       "      <td></td>\n",
       "      <td></td>\n",
       "      <td></td>\n",
       "      <td></td>\n",
       "      <td></td>\n",
       "      <td></td>\n",
       "      <td></td>\n",
       "      <td></td>\n",
       "    </tr>\n",
       "  </tbody>\n",
       "</table>\n",
       "</div>"
      ],
      "text/plain": [
       "                            0  1  2  3  4  5  6  7  8   9\n",
       "P  R  E  G  U  N  T  A      1  2  3  4  5  6  7  8  9  10\n",
       "R  E  S  P  U  E  S  T  A                                "
      ]
     },
     "execution_count": 1,
     "metadata": {},
     "output_type": "execute_result"
    }
   ],
   "source": [
    "import pandas as pd\n",
    "from openpyxl import Workbook\n",
    "from openpyxl.styles import Font, Alignment, Border, Side\n",
    "from openpyxl.utils.dataframe import dataframe_to_rows\n",
    "\n",
    "def df_show(num_options, num_questions):\n",
    "    num_options_list = ['' for _ in range(num_questions)]\n",
    "    num_questions_list = [1 + i for i in range(num_questions)]\n",
    "\n",
    "    df = {\n",
    "        'P  R  E  G  U  N  T  A': num_questions_list,\n",
    "        'R  E  S  P  U  E  S  T  A ': num_options_list\n",
    "    }\n",
    "    df = pd.DataFrame(df)\n",
    "    df = df.transpose()\n",
    "\n",
    "    wb = Workbook()\n",
    "    ws = wb.active\n",
    "\n",
    "    border_style = Border(\n",
    "        left=Side(style='thin'),\n",
    "        right=Side(style='thin'),\n",
    "        top=Side(style='thin'),\n",
    "        bottom=Side(style='thin')\n",
    "    )\n",
    "\n",
    "    for r_idx, row in enumerate(dataframe_to_rows(df, index=True, header=False), 1):\n",
    "        for c_idx, value in enumerate(row, 1):\n",
    "            cell = ws.cell(row=r_idx, column=c_idx, value=value)\n",
    "            cell.font = Font(name='Tahoma', size=14)\n",
    "            cell.alignment = Alignment(horizontal='center', vertical='center')  \n",
    "            cell.border = border_style  \n",
    "\n",
    "    first_col_letter = ws.cell(row=1, column=1).column_letter\n",
    "    ws.column_dimensions[first_col_letter].width = 40  \n",
    "\n",
    "    default_width = 10  \n",
    "    for c_idx, col in enumerate(df.columns, start=2):  \n",
    "        col_letter = chr(64 + c_idx)  \n",
    "        ws.column_dimensions[col_letter].width = default_width\n",
    "\n",
    "    for row in ws.rows:\n",
    "        row_number = row[0].row\n",
    "        ws.row_dimensions[row_number].height = 30 \n",
    "\n",
    "    wb.save('df.xlsx')\n",
    "\n",
    "    return df\n",
    "\n",
    "df = df_show(num_options=8, num_questions=10)\n",
    "df\n",
    "\n"
   ]
  },
  {
   "cell_type": "code",
   "execution_count": 94,
   "metadata": {},
   "outputs": [
    {
     "name": "stdout",
     "output_type": "stream",
     "text": [
      "3\n",
      "0\n",
      "0\n"
     ]
    },
    {
     "data": {
      "text/plain": [
       "[1, 2, 2, 3, 0, 6]"
      ]
     },
     "execution_count": 94,
     "metadata": {},
     "output_type": "execute_result"
    }
   ],
   "source": [
    "nums1 = [1,2,3,0,0,0]\n",
    "m = 3\n",
    "nums2 = [2,5,6]\n",
    "n = 3\n",
    "\n",
    "class Solution:\n",
    "\n",
    "    def merge(nums1, m, nums2, n):\n",
    "        for i in range(len(nums1)):\n",
    "            for j in range(len(nums2)):\n",
    "                if nums1[i] == nums2[j]:\n",
    "                    nums1.insert(i+1, nums2[j])\n",
    "                    nums1.pop()\n",
    "                    del nums2[j]\n",
    "                    break\n",
    "\n",
    "        print(max(nums1))\n",
    "\n",
    "        for i in range(len(nums1)):\n",
    "            \n",
    "            for j in range(len(nums2)):\n",
    "                \n",
    "                if nums2[j] > max(nums1) and nums2[j] > nums1[i]:\n",
    "                    print(i)\n",
    "                    nums1.insert(-1, nums2[j])\n",
    "                    nums1.pop()\n",
    "        return nums1\n",
    "                    \n",
    "                \n",
    "\n",
    "x = Solution.merge(nums1, m, nums2, n)\n",
    "x\n",
    "\n"
   ]
  },
  {
   "cell_type": "code",
   "execution_count": 82,
   "metadata": {},
   "outputs": [
    {
     "data": {
      "text/plain": [
       "6"
      ]
     },
     "execution_count": 82,
     "metadata": {},
     "output_type": "execute_result"
    }
   ],
   "source": [
    "max(nums1)"
   ]
  }
 ],
 "metadata": {
  "kernelspec": {
   "display_name": "gpu_tesis",
   "language": "python",
   "name": "python3"
  },
  "language_info": {
   "codemirror_mode": {
    "name": "ipython",
    "version": 3
   },
   "file_extension": ".py",
   "mimetype": "text/x-python",
   "name": "python",
   "nbconvert_exporter": "python",
   "pygments_lexer": "ipython3",
   "version": "3.10.14"
  }
 },
 "nbformat": 4,
 "nbformat_minor": 2
}
